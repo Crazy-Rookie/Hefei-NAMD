{
 "cells": [
  {
   "cell_type": "markdown",
   "metadata": {},
   "source": [
    "# Hefei-NAMD Training Session 2020\n",
    "\n",
    "![Hefei-NAMD LOGO](imgs/Hefei-NAMD.gif)\n",
    "\n",
    "In this training session, we will learn how to do an NAMD calculation using Hefei-NAMD.\n",
    "\n",
    "Outline of the session: \n",
    "\n",
    "* [A bit of theory](#a_bit_of_theory)\n",
    "\n",
    "* [Installation of Hefei-NAMD](#installation)\n",
    "\n",
    "* [An example: hot electron relaxation using Hefei-NAMD](#example)\n",
    "\n",
    "* [Contact](#contact)"
   ]
  },
  {
   "cell_type": "markdown",
   "metadata": {},
   "source": [
    "## A bit of theory <a id=\"a_bit_of_theory\"></a>"
   ]
  },
  {
   "cell_type": "markdown",
   "metadata": {},
   "source": [
    "### Flowchart of Hefei-NAMD\n",
    "\n",
    "1. Build a supercell and perform the geometry optimization at 0 K.\n",
    "\n",
    "2. Molecular dynamics equilibration run — canonical ensemble,\n",
    "\n",
    "3. Molecular dynamics production run — microcanonical ensemble.\n",
    "\n",
    "<img src=\"imgs/flowchart.png\" width=300px />\n",
    "\n"
   ]
  },
  {
   "cell_type": "markdown",
   "metadata": {},
   "source": [
    "## Installation<a id=\"installation\"></a>\n",
    "\n",
    "Hefei-NAMD is mainly written in Fortran and barely depends on any third-party library. The installation of Hefei-NAMD is very simple, all you need is a FORTRAN compiler. On your linux shell, do the following steps:\n",
    "\n",
    "1. get the source code: \n",
    "\n",
    "   `git clone https://github.com/QijingZheng/Hefei-NAMD`\n",
    "   \n",
    "\n",
    "2. change to the source code directory\n",
    "\n",
    "   `cd Hefei-NAMD/src/namd`\n",
    "   \n",
    "   Note that under the `\"src\"` directory, there are three sub-directories. For the moment, we will concentrate on the above one.\n",
    "\n",
    "\n",
    "3. Just type `\"make\"` and you should have an executable named `\"namd\"` in the current directory. In case you want to access the executable from anywhere in the system, just add the path of the namd executable to the `\"PATH\"` environment variable, i.e. \n",
    "\n",
    "    `cat 'export PATH=/path/to/your/namd-executable:${PATH}' >> ~/.bashrc`"
   ]
  },
  {
   "cell_type": "markdown",
   "metadata": {},
   "source": [
    "## An example <a id=\"example\"></a>"
   ]
  },
  {
   "cell_type": "markdown",
   "metadata": {},
   "source": [
    "## Contact<a id=\"contact\"></a>\n",
    "\n",
    "* Dr. Qijing Zheng (郑奇靖), <zqj@ustc.edu.cn>\n",
    "\n",
    "* Mr. Xiang Jiang (蒋翔), <jxiang@mail.ustc.edu.cn>\n",
    "\n",
    "* Dr. Weibin Chu (褚维斌)，<wbchu@ustc.edu.cn>\n",
    "\n",
    "* Dr. Chuanyu Zhao (赵传寓)，<zhaochuanyu@zju.edu.cn>\n",
    "\n",
    "* Prof. Jin Zhao (赵瑾), <zhaojin@ustc.edu.cn>\n",
    "\n"
   ]
  },
  {
   "cell_type": "code",
   "execution_count": null,
   "metadata": {},
   "outputs": [],
   "source": []
  }
 ],
 "metadata": {
  "kernelspec": {
   "display_name": "Python 3",
   "language": "python",
   "name": "python3"
  },
  "language_info": {
   "codemirror_mode": {
    "name": "ipython",
    "version": 3
   },
   "file_extension": ".py",
   "mimetype": "text/x-python",
   "name": "python",
   "nbconvert_exporter": "python",
   "pygments_lexer": "ipython3",
   "version": "3.7.4"
  }
 },
 "nbformat": 4,
 "nbformat_minor": 2
}
